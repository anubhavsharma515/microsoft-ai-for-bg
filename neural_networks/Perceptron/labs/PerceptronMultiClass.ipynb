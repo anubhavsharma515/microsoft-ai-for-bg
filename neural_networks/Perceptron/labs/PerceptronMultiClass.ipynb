{
 "cells": [
  {
   "cell_type": "markdown",
   "metadata": {
    "collapsed": true,
    "jupyter": {
     "outputs_hidden": true
    },
    "slideshow": {
     "slide_type": "slide"
    }
   },
   "source": [
    "# Multi-Class Classification with Perceptron\n",
    "\n",
    "Lab Assignment from [AI for Beginners Curriculum](https://github.com/microsoft/ai-for-beginners)."
   ]
  },
  {
   "cell_type": "code",
   "execution_count": 1,
   "metadata": {
    "slideshow": {
     "slide_type": "skip"
    }
   },
   "outputs": [],
   "source": [
    "import matplotlib.pyplot as plt\n",
    "import numpy as np\n",
    "import gzip\n",
    "import pickle\n",
    "import os\n",
    "import random\n",
    "import time"
   ]
  },
  {
   "cell_type": "code",
   "execution_count": 2,
   "metadata": {},
   "outputs": [],
   "source": [
    "with gzip.open('../data/mnist.pkl.gz', 'rb') as mnist_pickle:\n",
    "    MNIST = pickle._Unpickler(mnist_pickle, encoding='latin1').load()"
   ]
  },
  {
   "cell_type": "code",
   "execution_count": 3,
   "metadata": {},
   "outputs": [],
   "source": [
    "n = 42000 #Total # of examples in dataset\n",
    "\n",
    "train_x, test_x = np.split(MNIST['Train']['Features'], [n*8//10]) #// is integer division, likely cuz can't pass float to np.split\n",
    "train_labels, test_labels = np.split(MNIST['Train']['Labels'], [n*8//10])"
   ]
  },
  {
   "cell_type": "markdown",
   "metadata": {},
   "source": [
    "You can use the following perceptron training code from the lecture:"
   ]
  },
  {
   "cell_type": "code",
   "execution_count": 4,
   "metadata": {
    "slideshow": {
     "slide_type": "skip"
    }
   },
   "outputs": [],
   "source": [
    "def train(positive_examples, negative_examples, num_iterations = 100, report=False):\n",
    "    num_dims = positive_examples.shape[1]\n",
    "    weights = np.zeros((num_dims,1)) # initialize weights\n",
    "    \n",
    "    pos_count = positive_examples.shape[0]\n",
    "    neg_count = negative_examples.shape[0]\n",
    "    \n",
    "    report_frequency = 10\n",
    "    \n",
    "    for i in range(num_iterations):\n",
    "        pos = random.choice(positive_examples)\n",
    "        neg = random.choice(negative_examples)\n",
    "\n",
    "        z = np.dot(pos, weights)   \n",
    "        if z < 0:\n",
    "            weights = weights + pos.reshape(weights.shape)\n",
    "\n",
    "        z  = np.dot(neg, weights)\n",
    "        if z >= 0:\n",
    "            weights = weights - neg.reshape(weights.shape)\n",
    "\n",
    "        if report:\n",
    "            if i % report_frequency == 0:             \n",
    "                pos_out = np.dot(positive_examples, weights)\n",
    "                neg_out = np.dot(negative_examples, weights)        \n",
    "                pos_correct = (pos_out >= 0).sum() / float(pos_count)\n",
    "                neg_correct = (neg_out < 0).sum() / float(neg_count)\n",
    "                print(\"Iteration={}, pos correct={}, neg correct={}\".format(i,pos_correct,neg_correct))\n",
    "\n",
    "    return weights"
   ]
  },
  {
   "cell_type": "code",
   "execution_count": 5,
   "metadata": {
    "slideshow": {
     "slide_type": "fragment"
    }
   },
   "outputs": [],
   "source": [
    "def accuracy(weights, test_x, test_labels, pos):\n",
    "    res = np.dot(test_x, weights)\n",
    "    correct_pos = sum([1 for i, _ in enumerate(res) if test_labels[i] == pos and res[i] >= 0])\n",
    "    correct_neg = sum([1 for i, _ in enumerate(res) if test_labels[i] != pos and res[i] < 0])\n",
    "\n",
    "    return (correct_pos+correct_neg)/float(len(test_labels))"
   ]
  },
  {
   "cell_type": "code",
   "execution_count": 6,
   "metadata": {
    "slideshow": {
     "slide_type": "slide"
    }
   },
   "outputs": [],
   "source": [
    "def set_mnist_pos_neg(positive_label):\n",
    "    positive_indices = [i for i, j in enumerate(train_labels) \n",
    "                          if j == positive_label]\n",
    "    negative_indices = [i for i, j in enumerate(train_labels) \n",
    "                          if j != positive_label]\n",
    "\n",
    "    positive_images = MNIST['Train']['Features'][positive_indices]\n",
    "    negative_images = MNIST['Train']['Features'][negative_indices]\n",
    "\n",
    "    return positive_images, negative_images"
   ]
  },
  {
   "cell_type": "markdown",
   "metadata": {},
   "source": [
    "Now you need to:\n",
    "1. Create 10 *one-vs-all* datasets for all digits\n",
    "1. Train 10 perceptrons\n",
    "1. Define `classify` function to perform digit classification\n",
    "1. Measure the accuracy of classification and print *confusion matrix*\n",
    "1. [Optional] Create improved `classify` function that performs the classification using one matrix multiplication."
   ]
  },
  {
   "cell_type": "code",
   "execution_count": 7,
   "metadata": {},
   "outputs": [
    {
     "name": "stdout",
     "output_type": "stream",
     "text": [
      "0 Accuracy: 0.9307142857142857\n",
      "1 Accuracy: 0.9251190476190476\n",
      "2 Accuracy: 0.8917857142857143\n",
      "3 Accuracy: 0.9330952380952381\n",
      "4 Accuracy: 0.9486904761904762\n",
      "5 Accuracy: 0.8478571428571429\n",
      "6 Accuracy: 0.6378571428571429\n",
      "7 Accuracy: 0.8285714285714286\n",
      "8 Accuracy: 0.8875\n",
      "9 Accuracy: 0.7773809523809524\n"
     ]
    }
   ],
   "source": [
    "all_wts = []\n",
    "for i in range(0, 10):\n",
    "    pos, neg = set_mnist_pos_neg(i)\n",
    "    wt = train(pos, neg)\n",
    "    all_wts.append(wt)\n",
    "    print(f\"{i} Accuracy: {accuracy(wt, test_x, test_labels, pos=i)}\")\n"
   ]
  },
  {
   "cell_type": "code",
   "execution_count": 8,
   "metadata": {},
   "outputs": [],
   "source": [
    "### Randomly selects a sample\n",
    "### multiplies weights by the sample features\n",
    "### The highest product is assumed to be the most confident prediction\n",
    "### Index of highest prediction is the number predicted\n",
    "\n",
    "def classify(weights):\n",
    "    random_sample = random.randint(0, len(test_x))\n",
    "    sample_features = test_x[random_sample]\n",
    "    sample_label = test_labels[random_sample]\n",
    "\n",
    "    print(f'Sample Number = {sample_label}')\n",
    "\n",
    "    predictions = [np.dot(weights[i].reshape(sample_features.shape), sample_features) for i in range(0, 10)]\n",
    "    max_prediction = max(predictions)\n",
    "    predicted_label = predictions.index(max_prediction)\n",
    "    correct =  predicted_label == sample_label\n",
    "    if correct:\n",
    "        print(f'Guessed Number = {predicted_label}')\n",
    "    else:\n",
    "        print(f'Hmmmm, incorrect. Guessed Number = {predicted_label}')\n"
   ]
  },
  {
   "cell_type": "code",
   "execution_count": 10,
   "metadata": {},
   "outputs": [
    {
     "name": "stdout",
     "output_type": "stream",
     "text": [
      "Sample Number = 3\n",
      "Guessed Number = 3\n"
     ]
    }
   ],
   "source": [
    "classify(all_wts)"
   ]
  }
 ],
 "metadata": {
  "celltoolbar": "Slideshow",
  "kernelspec": {
   "display_name": "Python 3 (ipykernel)",
   "language": "python",
   "name": "python3"
  },
  "language_info": {
   "codemirror_mode": {
    "name": "ipython",
    "version": 3
   },
   "file_extension": ".py",
   "mimetype": "text/x-python",
   "name": "python",
   "nbconvert_exporter": "python",
   "pygments_lexer": "ipython3",
   "version": "3.9.6"
  },
  "livereveal": {
   "start_slideshow_at": "selected"
  }
 },
 "nbformat": 4,
 "nbformat_minor": 4
}
